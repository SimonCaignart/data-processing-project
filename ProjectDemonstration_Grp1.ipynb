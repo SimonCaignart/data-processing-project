{
 "cells": [
  {
   "cell_type": "code",
   "execution_count": 32,
   "metadata": {
    "colab": {
     "base_uri": "https://localhost:8080/",
     "height": 547
    },
    "id": "A9LPiA_WSJzK",
    "outputId": "71cd8426-6b1d-44cf-9943-8e872ce4c6c7"
   },
   "outputs": [
    {
     "name": "stdout",
     "output_type": "stream",
     "text": [
      "Requirement already satisfied: ortools in /Users/simon/.local/lib/python3.8/site-packages (9.0.9048)\n",
      "Requirement already satisfied: protobuf>=3.15.8 in /Users/simon/.local/lib/python3.8/site-packages (from ortools) (3.17.3)\n",
      "Requirement already satisfied: absl-py>=0.11 in /Users/simon/.local/lib/python3.8/site-packages (from ortools) (0.13.0)\n",
      "Requirement already satisfied: six in /Users/simon/opt/anaconda3/lib/python3.8/site-packages (from absl-py>=0.11->ortools) (1.15.0)\n",
      "Requirement already satisfied: pulp in /Users/simon/opt/anaconda3/lib/python3.8/site-packages (2.4.1)\n",
      "Requirement already satisfied: pymongo in /Users/simon/opt/anaconda3/lib/python3.8/site-packages (3.11.0)\n",
      "Requirement already satisfied: pylab-sdk in /Users/simon/opt/anaconda3/lib/python3.8/site-packages (1.3.2)\n",
      "Requirement already satisfied: tabulate in /Users/simon/opt/anaconda3/lib/python3.8/site-packages (0.8.9)\n"
     ]
    }
   ],
   "source": [
    "!pip install ortools\n",
    "!pip install pulp\n",
    "!pip install pymongo\n",
    "!pip install pylab-sdk\n",
    "!pip install tabulate\n",
    "\n",
    "import pprint\n",
    "import pandas as pd\n",
    "import numpy as np\n",
    "import math\n",
    "import time\n",
    "import matplotlib.pyplot as plt\n",
    "import matplotlib.dates as mdates\n",
    "import statsmodels.api as sm\n",
    "import statsmodels.stats.api as sms\n",
    "import pylab as py\n",
    "\n",
    "from ortools.constraint_solver import routing_enums_pb2\n",
    "from ortools.constraint_solver import pywrapcp\n",
    "from statsmodels.graphics import tsaplots\n",
    "from scipy import stats\n",
    "from pulp import *\n",
    "from random import shuffle\n",
    "from random import randint\n",
    "from random import randrange\n",
    "from pymongo import MongoClient\n",
    "from tabulate import tabulate"
   ]
  },
  {
   "cell_type": "code",
   "execution_count": 30,
   "metadata": {
    "colab": {
     "base_uri": "https://localhost:8080/"
    },
    "id": "p1puCLniaoVh",
    "outputId": "e7b012e1-d5f3-4872-e61a-141c3b643f5f"
   },
   "outputs": [],
   "source": [
    "client = MongoClient('localhost', 27017) \n",
    "db = client['DataProject'] \n",
    "collection_trafic_stamped = db['vehicules_stamped']"
   ]
  },
  {
   "cell_type": "markdown",
   "metadata": {},
   "source": [
    "# Graph generation"
   ]
  },
  {
   "cell_type": "code",
   "execution_count": 72,
   "metadata": {
    "colab": {
     "base_uri": "https://localhost:8080/"
    },
    "id": "5n0mwOKuaoVi",
    "outputId": "f82a5207-6179-412b-90f2-6093574a2b3f"
   },
   "outputs": [
    {
     "name": "stdout",
     "output_type": "stream",
     "text": [
      "[[  0  54 136  97  75 168 154  39 168 143]\n",
      " [ 54   0  53  70  83  52  86  64 128 154]\n",
      " [136  53   0  82 196 110 123 119 165 126]\n",
      " [ 97  70  82   0 178 110  30 121 142 141]\n",
      " [ 75  83 196 178   0 113  38  64  72  26]\n",
      " [168  52 110 110 113   0 111 112 128  88]\n",
      " [154  86 123  30  38 111   0 170 134 149]\n",
      " [ 39  64 119 121  64 112 170   0 137 155]\n",
      " [168 128 165 142  72 128 134 137   0 106]\n",
      " [143 154 126 141  26  88 149 155 106   0]]\n"
     ]
    }
   ],
   "source": [
    "# Parameters of the graphe\n",
    "nb_villes=10\n",
    "tempsMax=200\n",
    "\n",
    "def grapheVillesAleatoire(nbVilles, tempsMax):\n",
    "    #La fonction créait une matrice donnant le temps entre chaque ville de manière aléatoire.\n",
    "    graphe = np.random.choice(range(5,tempsMax), size=(nbVilles,nbVilles))\n",
    "    for i in range(nbVilles): #La boucle s'exécute pour chaque ville (nbVilles) et ajoute la valeur dans la matrice\n",
    "        graphe[i][i]= 0      \n",
    "    grapheF = ((graphe + graphe.T - np.diag(graphe.diagonal()))/2).astype(int)\n",
    "    return grapheF\n",
    "\n",
    "\n",
    "start = time.time() #Commence à calculer le temps d'exécution\n",
    "graphe = grapheVillesAleatoire(nb_villes,tempsMax) #Génère une matrice pour n villes (exemple:10) et ayant pour temps max. t minutes (exemple:200)\n",
    "print(graphe)\n",
    "stop = time.time() #Stop le calcul du temps d'exécution\n"
   ]
  },
  {
   "cell_type": "code",
   "execution_count": 27,
   "metadata": {
    "colab": {
     "base_uri": "https://localhost:8080/"
    },
    "id": "l0fdqHIgNxYL",
    "outputId": "873569a5-d3d8-41e6-bf72-2483f03a02a9"
   },
   "outputs": [],
   "source": [
    "def get_neighbors(path, graphe):\n",
    "    start_node = path.pop(0)\n",
    "    path.pop(len(path)-1)\n",
    "    index=0\n",
    "    for i in range(len(path)):\n",
    "        for j in range(1,len(path)-i):\n",
    "            neighbor_path=path.copy()\n",
    "            neighbor_path[i], neighbor_path[i+j] = neighbor_path[i+j], neighbor_path[i]\n",
    "            neighbor_path.insert(0,start_node)\n",
    "            neighbor_path.append(start_node)\n",
    "            yield(neighbor_path)"
   ]
  },
  {
   "cell_type": "code",
   "execution_count": 5,
   "metadata": {
    "id": "Msyjpk6NN2Hx"
   },
   "outputs": [],
   "source": [
    "def get_path_cost(path, graphe):\n",
    "    cost=0\n",
    "    for i in range(len(path)-1):\n",
    "        cost+=graphe[path[i]][path[i+1]]\n",
    "    return cost"
   ]
  },
  {
   "cell_type": "code",
   "execution_count": 26,
   "metadata": {
    "id": "686oBfYUhkQs"
   },
   "outputs": [],
   "source": [
    "cities=[\"la rochelle\",\"rochefort\",\"saint-agnant\",\"lagord\",\"torcieu\",\"replonges\",\"corcelles\",\"peron\",\"relevant\",\"chaveyriat\",\"vaux-en-bugey\",\"maillat\",\"faramans\",\"beon\",\"saint-bernard\",\"rossillon\",\"pont-d-ain\",\"nantua\",\"chavannes-sur-reyssouze\",\"neuville-les-dames\",\"flaxieu\",\"hotonnes\",\"saint-sorlin-en-bugey\",\"songieu\",\"virieu-le-petit\",\"saint-denis-en-bugey\",\"charnoz-sur-ain\",\"chazey-sur-ain\",\"marchamp\",\"culoz\",\"mantenay-montlin\",\"marboz\",\"foissiat\",\"treffort-cuisiat\",\"izieu\",\"saint-etienne-du-bois\",\"hauteville-lompnes\",\"saint-trivier-sur-moignans\",\"peyriat\",\"evosges\",\"poncin\",\"crans\",\"montreal-la-cluse\",\"cleyzieu\",\"lompnieu\",\"villereversure\",\"saint-martin-du-mont\",\"saint-genis-pouilly\",\"bolozon\",\"tarnos\",\"lochieu\",\"chanoz-chatenay\",\"villebois\",\"ceignes\",\"saint-didier-sur-chalaronne\",\"revonnas\",\"bourg-saint-christophe\",\"condeissiat\",\"pirajoux\",\"chalamont\",\"plantay\",\"versailleux\",\"montagnat\",\"vieu\",\"saint-andre-de-corcy\",\"landerneau\",\"peronnas\",\"colomieu\",\"monthieux\",\"saint-jean-sur-reyssouze\",\"saint-agnant\",\"montrevel-en-bresse\",\"conand\",\"challes-la-montagne\",\"mogneneins\",\"thoissey\",\"chaleins\",\"neuville-sur-ain\",\"thil\",\"jujurieux\",\"oncieu\",\"lurcy\",\"balan\",\"ambutrix\",\"sainte-croix\",\"blyes\",\"conzieu\",\"nievroz\",\"nurieux-volognat\",\"ambleon\",\"saint-maurice-de-gourdans\",\"chezery-forens\",\"sault-brenaz\",\"murs-et-gelignieux\",\"petit-abergement\",\"cormoz\",\"saint-martin-de-bavel\",\"saint-trivier-de-courtes\",\"boyeux-saint-jerome\",\"chateau-gaillard\"]\n",
    "\n",
    "def indexToCities(path):\n",
    "    if len(path) <= len(cities):\n",
    "        pathWithCities=list()\n",
    "        for city in path:\n",
    "            pathWithCities.append(cities[city])\n",
    "    else:\n",
    "        pathWithCities=path\n",
    "    return pathWithCities"
   ]
  },
  {
   "cell_type": "markdown",
   "metadata": {
    "id": "HG-2rY9BN8bx"
   },
   "source": [
    "# **Nearest neighbor Algorithm**  <a name=\"4.2\"></a>"
   ]
  },
  {
   "cell_type": "code",
   "execution_count": 53,
   "metadata": {
    "colab": {
     "base_uri": "https://localhost:8080/"
    },
    "id": "FldD6PoEN7r5",
    "outputId": "3bd37b0c-0398-41c6-a6fc-58b898e4c113"
   },
   "outputs": [
    {
     "name": "stdout",
     "output_type": "stream",
     "text": [
      "\n",
      "Path with only the nearest neighbor algorithm : [0, 9, 1, 4, 7, 5, 8, 6, 3, 2, 0]\n",
      "\n",
      "Length of the path : 537 mn, or 8.95 h\n"
     ]
    }
   ],
   "source": [
    "def next_city(current_city_index,visited_cities_indexes,graphe) :\n",
    "#La fonction donne l'indice de la ville la plus proche de celle d'indice actuel et qui n'a pas été visitée.\n",
    "    mini = 1000000000\n",
    "    minimum_index = -1\n",
    "    for i in range(len(graphe)) :\n",
    "        if visited_cities_indexes[i] == False :\n",
    "            if graphe[current_city_index][i] < mini :\n",
    "                mini = graphe[current_city_index][i]\n",
    "                minimum_index = i\n",
    "    return minimum_index\n",
    "\n",
    "def nearest_neighbor(start_city,graphe):\n",
    "    \"\"\" La fonction donne le chemin a suivre du voyageur de commerce sous forme d'un tableau d'indice.\"\"\"\n",
    "    visited_cities_indexes = [False] * len(graphe) # Au départ les villes ne sont pas visitées\n",
    "    path = [0]* (len(graphe)) # Le chemin du voyageur au départ est vide.\n",
    "\n",
    "    current_city_index = start_city # On trouve l'indice de la ville\n",
    "    visited_cities_indexes[current_city_index] = True # On dit que la ville est visitée.\n",
    "    path[0] = current_city_index\n",
    "\n",
    "    for i in range(1,len(graphe)) :\n",
    "        indice_next_city= next_city(current_city_index,visited_cities_indexes,graphe)\n",
    "        path[i] = indice_next_city\n",
    "        current_city_index = indice_next_city\n",
    "        visited_cities_indexes[current_city_index] = True # La ville est visitée elle ne peut plus être prise.\n",
    "    path.append(path[0])\n",
    "    return path\n",
    "\n",
    "res_nearest_neighbor=nearest_neighbor(0,graphe)\n",
    "\n",
    "print(\"\\nPath with only the nearest neighbor algorithm : \" + str(res_nearest_neighbor))\n",
    "print(\"\")\n",
    "print(\"Travel time : \" + str(get_path_cost(res_nearest_neighbor,graphe)) + \" mn, or \" + str(\"{:.2f}\".format(get_path_cost(res_nearest_neighbor,graphe)/60)) + \" h\")"
   ]
  },
  {
   "cell_type": "markdown",
   "metadata": {
    "id": "g6W3Rd3YOee-"
   },
   "source": [
    "# **Tabu Algorithm**  <a name=\"4.3\"></a>"
   ]
  },
  {
   "cell_type": "code",
   "execution_count": 74,
   "metadata": {
    "colab": {
     "base_uri": "https://localhost:8080/",
     "height": 558
    },
    "id": "bUZ7TfkTOdQj",
    "outputId": "d2feb9d8-a85f-41cd-9439-2b13692bf785"
   },
   "outputs": [
    {
     "name": "stdout",
     "output_type": "stream",
     "text": [
      "The travel time of the initial path is: 1595 mn, or 26.58 h\n",
      "\n",
      "---------------------------------------------\n",
      "\n",
      "The best path found is: ['la rochelle', 'saint-trivier-sur-moignans', 'culoz', 'saint-bernard', 'saint-denis-en-bugey', 'relevant', 'lagord', 'rochefort', 'evosges', 'charnoz-sur-ain', 'peron', 'foissiat', 'peyriat', 'nantua', 'torcieu', 'saint-sorlin-en-bugey', 'treffort-cuisiat', 'pont-d-ain', 'flaxieu', 'izieu', 'marboz', 'hauteville-lompnes', 'hotonnes', 'mantenay-montlin', 'faramans', 'replonges', 'saint-etienne-du-bois', 'chavannes-sur-reyssouze', 'neuville-les-dames', 'corcelles', 'beon', 'marchamp', 'saint-agnant', 'virieu-le-petit', 'chaveyriat', 'songieu', 'rossillon', 'chazey-sur-ain', 'vaux-en-bugey', 'maillat', 'la rochelle']\n",
      "\n",
      "Travel time : 1445 mn, or 24.08 h\n",
      "\n",
      "Execution time : 10.677601099014282 seconds\n",
      "\n",
      "\n"
     ]
    },
    {
     "data": {
      "text/plain": [
       "Text(0.5, 1.0, '\\nExploration of the search area by our algorithm\\n')"
      ]
     },
     "execution_count": 74,
     "metadata": {},
     "output_type": "execute_result"
    },
    {
     "data": {
      "image/png": "[encoded data removed]",
      "text/plain": [
       "<Figure size 432x288 with 1 Axes>"
      ]
     },
     "metadata": {
      "needs_background": "light"
     },
     "output_type": "display_data"
    }
   ],
   "source": [
    "def tabu_search(start_node, tabu_length, iter_max, graphe, withNearestNeighbor):\n",
    "\n",
    "    #Converting the starting city to an index\n",
    "    try:\n",
    "        start_node=cities.index(start_node)\n",
    "    except:\n",
    "        print(\"This city is not present in the graph, use the default city (la rochelle)\\n\")\n",
    "        start_node=cities.index(\"la rochelle\")\n",
    "        \n",
    "    nb_iter = 0\n",
    "    tabu_list = list()\n",
    "\n",
    "    # Here we use as initial path the result of our nearest neighbor algorithm\n",
    "    if withNearestNeighbor==True:\n",
    "        initial_element=nearest_neighbor(start_node,graphe)\n",
    "    #We can also use a random initial path, for that, you have to uncomment the 2 lines below and comment the line above\n",
    "    else:\n",
    "        initial_element=[i for i in range(len(graphe))]\n",
    "        initial_element.remove(start_node)\n",
    "        initial_element.append(start_node)\n",
    "        initial_element.insert(0,start_node)\n",
    "        \n",
    "    # solution variables for the search for the optimal non-taboo neighbor\n",
    "    current_element = initial_element\n",
    "    best_neighbor=current_element\n",
    "    best_neighbor_global=current_element\n",
    "\n",
    "    # variables values for the search of the optimal non-taboo neighbor\n",
    "    best_cost=10000000000\n",
    "    best_cost_global=10000000000\n",
    "\n",
    "    # variables for display\n",
    "    nb_tabou=0\n",
    "    best_global_found=0\n",
    "    \n",
    "    # list of current and best solutions found, to display the trajectory\n",
    "    paths=list()\n",
    "    best_paths=list()\n",
    "    \n",
    "    while (nb_iter<iter_max):\n",
    "        nb_iter += 1       \n",
    "        best_cost=10000000000\n",
    "\n",
    "        # we browse all the neighbors of the current solution\n",
    "        for neighbor in get_neighbors(current_element,graphe):\n",
    "            if get_path_cost(neighbor,graphe) < best_cost:\n",
    "                if neighbor not in tabu_list:\n",
    "                    best_cost = get_path_cost(neighbor,graphe)\n",
    "                    best_neighbor = neighbor\n",
    "          \n",
    "        # we update the best solution encountered since the beginning\n",
    "        if best_cost<best_cost_global:\n",
    "            best_global_found+=1\n",
    "            best_neighbor_global=best_neighbor\n",
    "            best_cost_global=best_cost\n",
    "            #print(\"Meilleur global trouvé ! : \" + str(best_neighbor_global) + \" avec une valeur de :\" + str(best_cost_global))\n",
    "      \n",
    "        best_paths.append(best_cost_global)\n",
    "        \n",
    "        # we go to the best non-tabu neighbor found     \n",
    "        current_element=best_neighbor.copy()\n",
    "        paths.append(best_cost)\n",
    "        \n",
    "        # we update the tabu list\n",
    "        tabu_list.append(best_neighbor)\n",
    "\n",
    "        # we delete the oldest solution if the taboo list has reached its maximum size\n",
    "        if len(tabu_list) > tabu_length:\n",
    "            del tabu_list[0]\n",
    "\n",
    "    # The city of origin is added to the initial element\n",
    "    initial_element.insert(0,start_node)\n",
    "    initial_element.append(start_node)\n",
    "    return best_neighbor_global, paths, best_paths, initial_element\n",
    "\n",
    "#------------------ Execution of the algorithm ---------------------\n",
    "\n",
    "# Parameters for the generation of the cities\n",
    "nb_cities=40\n",
    "maxTime=200\n",
    "\n",
    "#graphe2 = grapheVillesAleatoire(nb_cities,maxTime)\n",
    "\n",
    "# Number of iterations\n",
    "iter_maximum=1000\n",
    "# Length of the tabu list\n",
    "tabu_max=len(graphe2)\n",
    "# Use the nearest neighbor for the initial path\n",
    "useNearestNeighbor=True\n",
    "# Edit this value to change the departure city\n",
    "departure_city=\"la rochelle\"\n",
    "\n",
    "start_time = time.time()\n",
    "sol, courants, meilleurs_courants, initial_path=tabu_search(start_node=departure_city, tabu_length=tabu_max, iter_max=iter_maximum, graphe=graphe2, withNearestNeighbor=useNearestNeighbor)\n",
    "exec_time = (time.time() - start_time)\n",
    "\n",
    "print(\"The travel time of the initial path is:\",str(get_path_cost(initial_path,graphe2)) + \" mn, or \" + str(\"{:.2f}\".format(get_path_cost(initial_path,graphe2)/60)) + \" h\")\n",
    "print(\"\\n---------------------------------------------\")\n",
    "print(\"\\nThe best path found is: \" + str(indexToCities(sol)))\n",
    "print(\"\\nTravel time : \" + str(get_path_cost(sol,graphe2)) + \" mn, or \" + str(\"{:.2f}\".format(get_path_cost(sol,graphe2)/60)) + \" h\")\n",
    "print(\"\\nExecution time : \" + str(exec_time) + \" seconds\\n\\n\")\n",
    "\n",
    "# Display the graphic\n",
    "plt.xlabel(\"Iterations\", fontsize=16)\n",
    "plt.ylabel(\"Length of the path\", fontsize=16)\n",
    "\n",
    "res = plt.plot(range(iter_maximum), courants,label='Best value for each iteration')\n",
    "res = plt.plot(range(iter_maximum), meilleurs_courants,label='Best global value')\n",
    "\n",
    "plt.legend()\n",
    "font2 = {'size':14}\n",
    "plt.title(\"\\nExploration of the search area by our algorithm\\n\", loc = 'center',fontdict = font2)"
   ]
  },
  {
   "cell_type": "markdown",
   "metadata": {
    "id": "oot5EIerQT5i"
   },
   "source": [
    "# **With Traffic**  <a name=\"4.4\"></a>"
   ]
  },
  {
   "cell_type": "code",
   "execution_count": 9,
   "metadata": {
    "colab": {
     "base_uri": "https://localhost:8080/",
     "height": 358
    },
    "id": "FLfVDDtLQj5n",
    "outputId": "7f07c170-8b61-48a4-d3a1-f1669343a24f"
   },
   "outputs": [],
   "source": [
    "vehicules_par_arretes = list(collection_trafic_stamped.aggregate([\n",
    "    { \"$group\": \n",
    "     { \"_id\": \"$num_arete\",\n",
    "      \"nb_vehicules\": { \"$avg\": \"$nb_vehicules\"} } },\n",
    "    {\"$sort\" : { \"_id\":1 }}\n",
    "]))"
   ]
  },
  {
   "cell_type": "code",
   "execution_count": 10,
   "metadata": {
    "id": "KN70DsMu3-YH"
   },
   "outputs": [],
   "source": [
    "def transform_in_exponentiel(trafics):\n",
    "    res = list()\n",
    "    for i in trafics:\n",
    "        res.append(round(math.exp(i*0.03)))\n",
    "    return res"
   ]
  },
  {
   "cell_type": "code",
   "execution_count": 11,
   "metadata": {
    "id": "zGtDmMWQ4Cj4"
   },
   "outputs": [],
   "source": [
    "def add_traffic_time(graphe):\n",
    "    \n",
    "    trafics = [trafic[\"nb_vehicules\"] for trafic in vehicules_par_arretes]\n",
    "\n",
    "    trafics = trafics[:len(graphe)]\n",
    "    graphe_with_traffic = graphe.copy()\n",
    "    \n",
    "    time_to_add_in_graphe = transform_in_exponentiel(trafics)\n",
    "    \n",
    "    for i in range(len(graphe)):\n",
    "        for j in range(len(graphe)):\n",
    "            if i != j:\n",
    "                graphe_with_traffic[i][j] += time_to_add_in_graphe[j]\n",
    "                \n",
    "    return(graphe_with_traffic)"
   ]
  },
  {
   "cell_type": "code",
   "execution_count": 75,
   "metadata": {
    "colab": {
     "base_uri": "https://localhost:8080/",
     "height": 473
    },
    "id": "bPkUCMX_Rhoc",
    "outputId": "d32f94f8-1c7f-4c36-e2c1-9f7e808584a1"
   },
   "outputs": [
    {
     "name": "stdout",
     "output_type": "stream",
     "text": [
      "\n",
      "Execution without traffic:\n",
      "\n",
      "Travel time of the initial path is: 1479 mn, or 24.65 h\n",
      "\n",
      "The best path found is:['la rochelle', 'corcelles', 'evosges', 'chaveyriat', 'mantenay-montlin', 'maillat', 'neuville-les-dames', 'foissiat', 'saint-bernard', 'beon', 'rochefort', 'peron', 'vaux-en-bugey', 'saint-trivier-sur-moignans', 'relevant', 'charnoz-sur-ain', 'culoz', 'izieu', 'chazey-sur-ain', 'rossillon', 'lagord', 'hotonnes', 'peyriat', 'nantua', 'songieu', 'virieu-le-petit', 'treffort-cuisiat', 'chavannes-sur-reyssouze', 'marchamp', 'saint-etienne-du-bois', 'saint-denis-en-bugey', 'saint-sorlin-en-bugey', 'torcieu', 'pont-d-ain', 'saint-agnant', 'hauteville-lompnes', 'replonges', 'flaxieu', 'marboz', 'faramans', 'la rochelle']\n",
      "\n",
      "Its travel time is: 1359 mn, or 22.65 h\n",
      "\n",
      "Execution Time: 1.3541169166564941 seconds\n",
      "\n",
      "-------------------------------------\n",
      "\n",
      "Execution with traffic:\n",
      "\n",
      "The travel time of the initial path is: 1962 mn, or 32.70 h\n",
      "\n",
      "The best path found is: ['la rochelle', 'corcelles', 'vaux-en-bugey', 'saint-trivier-sur-moignans', 'chaveyriat', 'mantenay-montlin', 'maillat', 'neuville-les-dames', 'foissiat', 'saint-bernard', 'beon', 'rochefort', 'peron', 'treffort-cuisiat', 'virieu-le-petit', 'songieu', 'nantua', 'peyriat', 'faramans', 'relevant', 'charnoz-sur-ain', 'chazey-sur-ain', 'rossillon', 'lagord', 'pont-d-ain', 'saint-denis-en-bugey', 'saint-etienne-du-bois', 'marboz', 'flaxieu', 'replonges', 'evosges', 'torcieu', 'saint-sorlin-en-bugey', 'hauteville-lompnes', 'saint-agnant', 'culoz', 'izieu', 'chavannes-sur-reyssouze', 'marchamp', 'hotonnes', 'la rochelle']\n",
      "\n",
      "Its travel time is: 1850 mn, or 30.83 h\n",
      "\n",
      "Execution Time: 1.2080042362213135 seconds\n"
     ]
    }
   ],
   "source": [
    "# Parameters for the generation of the cities\n",
    "nb_villes=40\n",
    "tempsMax=200\n",
    "\n",
    "#graphe3 = grapheVillesAleatoire(nb_villes,tempsMax)\n",
    "\n",
    "# Parameters for the tabu algorithm\n",
    "iter_maximum=100\n",
    "taille_tabou=len(graphe3)\n",
    "useNearestNeighbor=True\n",
    "\n",
    "# Departure city\n",
    "departure_city=\"la rochelle\"\n",
    "\n",
    "print(\"\\nExecution without traffic:\\n\")\n",
    "\n",
    "start_time = time.time()\n",
    "sol, courants, meilleurs_courants, initial_path=tabu_search(start_node=departure_city, tabu_length=taille_tabou, iter_max=iter_maximum, graphe=graphe3, withNearestNeighbor=useNearestNeighbor)\n",
    "exec_time = (time.time() - start_time)\n",
    "\n",
    "print(\"Travel time of the initial path is:\",str(get_path_cost(initial_path,graphe3)) + \" mn, or \" + str(\"{:.2f}\".format(get_path_cost(initial_path,graphe3)/60)) + \" h\")\n",
    "print(\"\\nThe best path found is:\" + str(indexToCities(sol)))\n",
    "print(\"\\nIts travel time is: \" + str(get_path_cost(sol,graphe3)) + \" mn, or \" + str(\"{:.2f}\".format(get_path_cost(sol,graphe3)/60)) + \" h\")\n",
    "print(\"\\nExecution Time: \" + str(exec_time) + \" seconds\")\n",
    "\n",
    "print(\"\\n-------------------------------------\\n\")\n",
    "\n",
    "print(\"Execution with traffic:\\n\")\n",
    "\n",
    "graphe_with_traffic = add_traffic_time(graphe3)\n",
    "\n",
    "start_time = time.time()\n",
    "sol, courants, meilleurs_courants, initial_path=tabu_search(start_node=departure_city, tabu_length=taille_tabou, iter_max=iter_maximum, graphe=graphe_with_traffic, withNearestNeighbor=useNearestNeighbor)\n",
    "exec_time = (time.time() - start_time)\n",
    "\n",
    "print(\"The travel time of the initial path is:\",str(get_path_cost(initial_path,graphe_with_traffic)) + \" mn, or \" + str(\"{:.2f}\".format(get_path_cost(initial_path,graphe_with_traffic)/60)) + \" h\")\n",
    "print(\"\\nThe best path found is: \" + str(indexToCities(sol)))\n",
    "print(\"\\nIts travel time is: \" + str(get_path_cost(sol,graphe_with_traffic)) + \" mn, or \" + str(\"{:.2f}\".format(get_path_cost(sol,graphe_with_traffic)/60)) + \" h\")\n",
    "print(\"\\nExecution Time: \" + str(exec_time) + \" seconds\")"
   ]
  }
 ],
 "metadata": {
  "colab": {
   "collapsed_sections": [
    "1Iwgqd0-aoVk",
    "mQOgCa51aoVm"
   ],
   "name": "LivrableTechnique.ipynb",
   "provenance": [],
   "toc_visible": true
  },
  "kernelspec": {
   "display_name": "Python 3",
   "language": "python",
   "name": "python3"
  },
  "language_info": {
   "codemirror_mode": {
    "name": "ipython",
    "version": 3
   },
   "file_extension": ".py",
   "mimetype": "text/x-python",
   "name": "python",
   "nbconvert_exporter": "python",
   "pygments_lexer": "ipython3",
   "version": "3.8.8"
  }
 },
 "nbformat": 4,
 "nbformat_minor": 1
}
